{
  "nbformat": 4,
  "nbformat_minor": 0,
  "metadata": {
    "colab": {
      "provenance": [],
      "authorship_tag": "ABX9TyNzr6g0m789dwhb3vjlxJJZ",
      "include_colab_link": true
    },
    "kernelspec": {
      "name": "python3",
      "display_name": "Python 3"
    },
    "language_info": {
      "name": "python"
    }
  },
  "cells": [
    {
      "cell_type": "markdown",
      "metadata": {
        "id": "view-in-github",
        "colab_type": "text"
      },
      "source": [
        "<a href=\"https://colab.research.google.com/github/MartinGalvao/DataScience/blob/main/Python_Practica.ipynb\" target=\"_parent\"><img src=\"https://colab.research.google.com/assets/colab-badge.svg\" alt=\"Open In Colab\"/></a>"
      ]
    },
    {
      "cell_type": "markdown",
      "source": [
        "Palabra Invertida\n",
        "\n"
      ],
      "metadata": {
        "id": "KxzXlX4-v2WM"
      }
    },
    {
      "cell_type": "code",
      "execution_count": null,
      "metadata": {
        "colab": {
          "base_uri": "https://localhost:8080/"
        },
        "id": "LVTlgsnYuqgj",
        "outputId": "91269f38-85fe-4729-e6f6-b114fde72319"
      },
      "outputs": [
        {
          "output_type": "stream",
          "name": "stdout",
          "text": [
            "Ingrese una palabra: HOLA\n",
            "Palabra invertida: ALOH\n"
          ]
        }
      ],
      "source": [
        "\n",
        "def invertir_palabra(palabra):\n",
        "  return palabra[::-1]\n",
        "\n",
        "palabra = input(\"Ingrese una palabra: \")\n",
        "palabra_invertida = invertir_palabra(palabra)\n",
        "print(\"Palabra invertida:\", palabra_invertida)\n"
      ]
    },
    {
      "cell_type": "markdown",
      "source": [
        "Suma, Resta, Multiplicacion y Division\n"
      ],
      "metadata": {
        "id": "uZahdi8xv5fs"
      }
    },
    {
      "cell_type": "code",
      "source": [
        "\n",
        "def suma(a, b):\n",
        "  return a + b\n",
        "\n",
        "def resta(a, b):\n",
        "  return a - b\n",
        "\n",
        "def multiplicacion(a, b):\n",
        "  return a * b\n",
        "\n",
        "def division(a, b):\n",
        "  if b == 0:\n",
        "    return \"Error: División por cero\"\n",
        "  else:\n",
        "    return a / b\n",
        "\n",
        "num1 = float(input(\"Ingrese el primer número: \"))\n",
        "num2 = float(input(\"Ingrese el segundo número: \"))\n",
        "\n",
        "print(\"Suma:\", suma(num1, num2))\n",
        "print(\"Resta:\", resta(num1, num2))\n",
        "print(\"Multiplicación:\", multiplicacion(num1, num2))\n",
        "print(\"División:\", division(num1, num2))\n"
      ],
      "metadata": {
        "colab": {
          "base_uri": "https://localhost:8080/"
        },
        "id": "FxvOvnQQv1-e",
        "outputId": "7d1c2f8b-2331-4d67-c62c-e9146b659090"
      },
      "execution_count": null,
      "outputs": [
        {
          "output_type": "stream",
          "name": "stdout",
          "text": [
            "Ingrese una palabra: 5\n",
            "Palabra invertida: 5\n",
            "Ingrese el primer número: 5\n",
            "Ingrese el segundo número: 5\n",
            "Suma: 10.0\n",
            "Resta: 0.0\n",
            "Multiplicación: 25.0\n",
            "División: 1.0\n"
          ]
        }
      ]
    },
    {
      "cell_type": "code",
      "source": [
        "\n",
        "contador = 0\n",
        "for i in range(2, 21, 2):\n",
        "  contador += 1\n",
        "  print(i)\n",
        "\n",
        "print(\"Hay\", contador, \"números pares entre 1 y 20.\")\n"
      ],
      "metadata": {
        "colab": {
          "base_uri": "https://localhost:8080/"
        },
        "id": "1h4f2dLww-iM",
        "outputId": "adc60386-5fc6-4264-873d-78aaff533eb8"
      },
      "execution_count": null,
      "outputs": [
        {
          "output_type": "stream",
          "name": "stdout",
          "text": [
            "2\n",
            "4\n",
            "6\n",
            "8\n",
            "10\n",
            "12\n",
            "14\n",
            "16\n",
            "18\n",
            "20\n",
            "Hay 10 números pares entre 1 y 20.\n"
          ]
        }
      ]
    },
    {
      "cell_type": "code",
      "source": [
        "\n",
        "\n",
        "import random\n",
        "\n",
        "numero_secreto = random.randint(1, 10)\n",
        "intentos = 3\n",
        "\n",
        "print(\"¡Bienvenido al juego de adivinar el número!\")\n",
        "print(\"He elegido un número entre 1 y 10. Tienes 3 intentos para adivinarlo.\")\n",
        "\n",
        "while intentos > 0:\n",
        "  intento = int(input(\"Ingresa tu número: \"))\n",
        "\n",
        "  if intento == numero_secreto:\n",
        "    print(\"¡Felicidades! Adivinaste el número.\")\n",
        "    break\n",
        "  elif intento < numero_secreto:\n",
        "    print(\"El número es mayor.\")\n",
        "  else:\n",
        "    print(\"El número es menor.\")\n",
        "\n",
        "  intentos -= 1\n",
        "  print(\"Te quedan\", intentos, \"intentos.\")\n",
        "\n",
        "if intentos == 0:\n",
        "  print(\"¡Perdiste! El número era\", numero_secreto)\n"
      ],
      "metadata": {
        "colab": {
          "base_uri": "https://localhost:8080/"
        },
        "id": "OU82E1hLxvgK",
        "outputId": "1799508c-633a-4972-e30a-e183613ee828"
      },
      "execution_count": null,
      "outputs": [
        {
          "output_type": "stream",
          "name": "stdout",
          "text": [
            "¡Bienvenido al juego de adivinar el número!\n",
            "He elegido un número entre 1 y 10. Tienes 3 intentos para adivinarlo.\n",
            "Ingresa tu número: 4\n",
            "El número es mayor.\n",
            "Te quedan 2 intentos.\n",
            "Ingresa tu número: 6\n",
            "El número es mayor.\n",
            "Te quedan 1 intentos.\n",
            "Ingresa tu número: 9\n",
            "El número es menor.\n",
            "Te quedan 0 intentos.\n",
            "¡Perdiste! El número era 8\n"
          ]
        }
      ]
    },
    {
      "cell_type": "code",
      "source": [
        "contador = 0\n",
        "for i in range(10,0,-1):\n",
        "  contador += 1\n",
        "  print(i)\n",
        "  if i == 1:\n",
        "      print(\"!Despegue!\")\n"
      ],
      "metadata": {
        "colab": {
          "base_uri": "https://localhost:8080/"
        },
        "id": "xyyi5SagyLWi",
        "outputId": "b622f2f1-c178-487e-ed13-5476f02a9371"
      },
      "execution_count": null,
      "outputs": [
        {
          "output_type": "stream",
          "name": "stdout",
          "text": [
            "10\n",
            "9\n",
            "8\n",
            "7\n",
            "6\n",
            "5\n",
            "4\n",
            "3\n",
            "2\n",
            "1\n",
            "!Despegue!\n"
          ]
        }
      ]
    },
    {
      "cell_type": "code",
      "source": [
        "numero = int(input(\"Ingrese un número: \"))\n",
        "\n",
        "if(numero > 0):\n",
        "  print(\"El número es positivo\")\n",
        "elif(numero < 0):\n",
        "  print(\"El número es negativo\")\n",
        "else:\n",
        "  print(\"El número es cero\")\n",
        "\n"
      ],
      "metadata": {
        "colab": {
          "base_uri": "https://localhost:8080/"
        },
        "id": "wh2FloWZzLNo",
        "outputId": "cbbc537e-e340-4515-f43d-cc259907a50f"
      },
      "execution_count": null,
      "outputs": [
        {
          "output_type": "stream",
          "name": "stdout",
          "text": [
            "Ingrese un número: 5\n",
            "El número es positivo\n"
          ]
        }
      ]
    },
    {
      "cell_type": "code",
      "source": [
        "\n",
        "letra = input(\"Ingrese una letra: \")\n",
        "numero = int(input(\"Ingrese un número: \"))\n",
        "\n",
        "lista = [letra] * numero\n",
        "\n",
        "print(lista)\n"
      ],
      "metadata": {
        "colab": {
          "base_uri": "https://localhost:8080/"
        },
        "id": "noj_SiHwzQIw",
        "outputId": "ed3def91-933f-4284-f1d8-de69547f6f54"
      },
      "execution_count": null,
      "outputs": [
        {
          "output_type": "stream",
          "name": "stdout",
          "text": [
            "Ingrese una letra: l\n",
            "Ingrese un número: 2\n",
            "['l', 'l']\n"
          ]
        }
      ]
    },
    {
      "cell_type": "code",
      "source": [
        "\n",
        "frutas = [\"manzana\", \"banana\", \"pera\", \"uva\", \"naranja\"]\n",
        "frutas.append(\"mango\")\n",
        "print(frutas)\n"
      ],
      "metadata": {
        "colab": {
          "base_uri": "https://localhost:8080/"
        },
        "id": "Rhe5WWYl0o6b",
        "outputId": "d292d232-9487-4237-b317-bbeb93b484d0"
      },
      "execution_count": null,
      "outputs": [
        {
          "output_type": "stream",
          "name": "stdout",
          "text": [
            "['manzana', 'banana', 'pera', 'uva', 'naranja', 'mango']\n"
          ]
        }
      ]
    },
    {
      "cell_type": "code",
      "source": [
        "\n",
        "edad = int(input(\"Ingrese su edad: \"))\n",
        "\n",
        "contador = 0\n",
        "for i in range(1, edad + 1):\n",
        "  print(i)\n",
        "  contador +=1\n",
        "\n",
        "print(\"Ha cumplido\", contador, \"años.\")\n"
      ],
      "metadata": {
        "colab": {
          "base_uri": "https://localhost:8080/"
        },
        "id": "xothjQ6_0Oqv",
        "outputId": "c86d6b4e-a75f-4231-cfbc-bad0fe8f0f67"
      },
      "execution_count": null,
      "outputs": [
        {
          "output_type": "stream",
          "name": "stdout",
          "text": [
            "Ingrese su edad: 24\n",
            "1\n",
            "2\n",
            "3\n",
            "4\n",
            "5\n",
            "6\n",
            "7\n",
            "8\n",
            "9\n",
            "10\n",
            "11\n",
            "12\n",
            "13\n",
            "14\n",
            "15\n",
            "16\n",
            "17\n",
            "18\n",
            "19\n",
            "20\n",
            "21\n",
            "22\n",
            "23\n",
            "24\n",
            "Ha cumplido 24 años.\n"
          ]
        }
      ]
    },
    {
      "cell_type": "code",
      "source": [
        "\n",
        "def es_primo(numero):\n",
        "  if numero <= 1:\n",
        "    return False\n",
        "  elif numero <= 3:\n",
        "    return True\n",
        "  elif numero % 2 == 0 or numero % 3 == 0:\n",
        "    return False\n",
        "  i = 5\n",
        "  while i * i <= numero:\n",
        "    if numero % i == 0 or numero % (i + 2) == 0:\n",
        "      return False\n",
        "    i += 6\n",
        "  return True\n",
        "\n",
        "numero = int(input(\"Ingrese un número: \"))\n",
        "if es_primo(numero):\n",
        "  print(numero, \"es un número primo.\")\n",
        "else:\n",
        "  print(numero, \"no es un número primo.\")\n"
      ],
      "metadata": {
        "colab": {
          "base_uri": "https://localhost:8080/"
        },
        "id": "_1xQtcs10uMv",
        "outputId": "a6c8bbd2-ca89-46bc-c244-67cc2efd9105"
      },
      "execution_count": null,
      "outputs": [
        {
          "output_type": "stream",
          "name": "stdout",
          "text": [
            "Ingrese un número: 11\n",
            "11 es un número primo.\n"
          ]
        }
      ]
    },
    {
      "cell_type": "code",
      "source": [
        "\n",
        "import pandas as pd\n",
        "import numpy as np\n",
        "\n",
        "df = pd.DataFrame(np.random.rand(5, 3), columns=['A', 'B', 'C'])\n",
        "\n",
        "print(df)\n"
      ],
      "metadata": {
        "colab": {
          "base_uri": "https://localhost:8080/"
        },
        "id": "At5A37Rn1N2r",
        "outputId": "1eb4326c-3c38-4b1c-9913-0ec4cc8279ec"
      },
      "execution_count": null,
      "outputs": [
        {
          "output_type": "stream",
          "name": "stdout",
          "text": [
            "          A         B         C\n",
            "0  0.546126  0.801920  0.067641\n",
            "1  0.944173  0.564041  0.154287\n",
            "2  0.794383  0.684241  0.482781\n",
            "3  0.531988  0.201601  0.744571\n",
            "4  0.004445  0.300224  0.700312\n"
          ]
        }
      ]
    },
    {
      "cell_type": "code",
      "source": [
        "\n",
        "import numpy as np\n",
        "a = np.array([1, 2, 3, 4, 5, 6])\n",
        "\n",
        "b = a.reshape(2, 3)\n",
        "print(\"Array con reshape:\\n\", b)\n",
        "\n",
        "c = b.transpose()\n",
        "print(\"\\nArray transpuesto:\\n\", c)\n"
      ],
      "metadata": {
        "colab": {
          "base_uri": "https://localhost:8080/"
        },
        "id": "Kyij-XRF1d7u",
        "outputId": "ebed54a4-4da0-4fff-d463-15973a0a465e"
      },
      "execution_count": null,
      "outputs": [
        {
          "output_type": "stream",
          "name": "stdout",
          "text": [
            "Array con reshape:\n",
            " [[1 2 3]\n",
            " [4 5 6]]\n",
            "\n",
            "Array transpuesto:\n",
            " [[1 4]\n",
            " [2 5]\n",
            " [3 6]]\n"
          ]
        }
      ]
    }
  ]
}